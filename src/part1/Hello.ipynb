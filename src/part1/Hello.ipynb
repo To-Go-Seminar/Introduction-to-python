{
 "cells": [
  {
   "cell_type": "markdown",
   "metadata": {},
   "source": [
    "# ipynbのサンプル"
   ]
  },
  {
   "cell_type": "code",
   "execution_count": 1,
   "metadata": {},
   "outputs": [
    {
     "name": "stdout",
     "output_type": "stream",
     "text": [
      "Hello, Python!\n"
     ]
    }
   ],
   "source": [
    "print('Hello, Python!')"
   ]
  },
  {
   "cell_type": "code",
   "execution_count": 2,
   "metadata": {},
   "outputs": [
    {
     "name": "stdout",
     "output_type": "stream",
     "text": [
      "きつねさん、こんにちは！\n"
     ]
    }
   ],
   "source": [
    "name = 'きつね'\n",
    "print(name + 'さん、こんにちは！')"
   ]
  }
 ],
 "metadata": {
  "interpreter": {
   "hash": "f413d12717ab875aac41350cb81746bd4d92a43fcd55e1bcca00b8859ba859bd"
  },
  "kernelspec": {
   "display_name": "Python 3.9.7 64-bit ('.venv': pipenv)",
   "language": "python",
   "name": "python3"
  },
  "language_info": {
   "codemirror_mode": {
    "name": "ipython",
    "version": 3
   },
   "file_extension": ".py",
   "mimetype": "text/x-python",
   "name": "python",
   "nbconvert_exporter": "python",
   "pygments_lexer": "ipython3",
   "version": "3.9.7"
  },
  "orig_nbformat": 4
 },
 "nbformat": 4,
 "nbformat_minor": 2
}
